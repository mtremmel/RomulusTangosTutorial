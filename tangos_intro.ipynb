{
 "cells": [
  {
   "cell_type": "markdown",
   "id": "6a682af1-8c66-4485-8b73-2e0f7d0c25e3",
   "metadata": {},
   "source": [
    "<h3> Getting Started: Load in the Database!</h3>"
   ]
  },
  {
   "cell_type": "code",
   "execution_count": 1,
   "id": "586d4fb6",
   "metadata": {
    "tags": []
   },
   "outputs": [
    {
     "name": "stderr",
     "output_type": "stream",
     "text": [
      "/home/mjt56/.local/lib/python3.8/site-packages/tangos-1.3.1-py3.8.egg/tangos/relation_finding/multi_hop.py:27: SAWarning: relationship 'TimeStep.trackers' will copy column timesteps.id to column halos.timestep_id, which conflicts with relationship(s): 'TimeStep.halos' (copies timesteps.id to halos.timestep_id). If this is not the intention, consider if these relationships should be linked with back_populates, or if viewonly=True should be applied to one or more if they are read-only. For the less common case that foreign key constraints are partially overlapping, the orm.foreign() annotation can be used to isolate the columns that should be written towards.   The 'overlaps' parameter may be used to remove this warning.\n",
      "  halo_old = sqlalchemy.orm.aliased(core.halo.Halo, name=\"halo_old\")\n",
      "/home/mjt56/.local/lib/python3.8/site-packages/tangos-1.3.1-py3.8.egg/tangos/relation_finding/multi_hop.py:27: SAWarning: relationship 'TimeStep.bhs' will copy column timesteps.id to column halos.timestep_id, which conflicts with relationship(s): 'TimeStep.halos' (copies timesteps.id to halos.timestep_id), 'TimeStep.trackers' (copies timesteps.id to halos.timestep_id). If this is not the intention, consider if these relationships should be linked with back_populates, or if viewonly=True should be applied to one or more if they are read-only. For the less common case that foreign key constraints are partially overlapping, the orm.foreign() annotation can be used to isolate the columns that should be written towards.   The 'overlaps' parameter may be used to remove this warning.\n",
      "  halo_old = sqlalchemy.orm.aliased(core.halo.Halo, name=\"halo_old\")\n",
      "/home/mjt56/.local/lib/python3.8/site-packages/tangos-1.3.1-py3.8.egg/tangos/relation_finding/multi_hop.py:27: SAWarning: relationship 'TimeStep.groups' will copy column timesteps.id to column halos.timestep_id, which conflicts with relationship(s): 'TimeStep.halos' (copies timesteps.id to halos.timestep_id), 'TimeStep.trackers' (copies timesteps.id to halos.timestep_id), 'TimeStep.bhs' (copies timesteps.id to halos.timestep_id). If this is not the intention, consider if these relationships should be linked with back_populates, or if viewonly=True should be applied to one or more if they are read-only. For the less common case that foreign key constraints are partially overlapping, the orm.foreign() annotation can be used to isolate the columns that should be written towards.   The 'overlaps' parameter may be used to remove this warning.\n",
      "  halo_old = sqlalchemy.orm.aliased(core.halo.Halo, name=\"halo_old\")\n",
      "/home/mjt56/.local/lib/python3.8/site-packages/tangos-1.3.1-py3.8.egg/tangos/relation_finding/multi_hop.py:27: SAWarning: relationship 'TimeStep.phantoms' will copy column timesteps.id to column halos.timestep_id, which conflicts with relationship(s): 'TimeStep.halos' (copies timesteps.id to halos.timestep_id), 'TimeStep.trackers' (copies timesteps.id to halos.timestep_id), 'TimeStep.bhs' (copies timesteps.id to halos.timestep_id), 'TimeStep.groups' (copies timesteps.id to halos.timestep_id). If this is not the intention, consider if these relationships should be linked with back_populates, or if viewonly=True should be applied to one or more if they are read-only. For the less common case that foreign key constraints are partially overlapping, the orm.foreign() annotation can be used to isolate the columns that should be written towards.   The 'overlaps' parameter may be used to remove this warning.\n",
      "  halo_old = sqlalchemy.orm.aliased(core.halo.Halo, name=\"halo_old\")\n",
      "/home/mjt56/.local/lib/python3.8/site-packages/tangos-1.3.1-py3.8.egg/tangos/relation_finding/multi_hop.py:27: SAWarning: relationship 'TimeStep.links_from' will copy column timesteps.id to column halos.timestep_id, which conflicts with relationship(s): 'TimeStep.halos' (copies timesteps.id to halos.timestep_id), 'TimeStep.trackers' (copies timesteps.id to halos.timestep_id), 'TimeStep.bhs' (copies timesteps.id to halos.timestep_id), 'TimeStep.groups' (copies timesteps.id to halos.timestep_id), 'TimeStep.phantoms' (copies timesteps.id to halos.timestep_id). If this is not the intention, consider if these relationships should be linked with back_populates, or if viewonly=True should be applied to one or more if they are read-only. For the less common case that foreign key constraints are partially overlapping, the orm.foreign() annotation can be used to isolate the columns that should be written towards.   The 'overlaps' parameter may be used to remove this warning.\n",
      "  halo_old = sqlalchemy.orm.aliased(core.halo.Halo, name=\"halo_old\")\n",
      "/home/mjt56/.local/lib/python3.8/site-packages/tangos-1.3.1-py3.8.egg/tangos/relation_finding/multi_hop.py:27: SAWarning: relationship 'TimeStep.links_to' will copy column timesteps.id to column halos.timestep_id, which conflicts with relationship(s): 'TimeStep.halos' (copies timesteps.id to halos.timestep_id), 'TimeStep.trackers' (copies timesteps.id to halos.timestep_id), 'TimeStep.bhs' (copies timesteps.id to halos.timestep_id), 'TimeStep.groups' (copies timesteps.id to halos.timestep_id), 'TimeStep.phantoms' (copies timesteps.id to halos.timestep_id), 'TimeStep.links_from' (copies timesteps.id to halos.timestep_id). If this is not the intention, consider if these relationships should be linked with back_populates, or if viewonly=True should be applied to one or more if they are read-only. For the less common case that foreign key constraints are partially overlapping, the orm.foreign() annotation can be used to isolate the columns that should be written towards.   The 'overlaps' parameter may be used to remove this warning.\n",
      "  halo_old = sqlalchemy.orm.aliased(core.halo.Halo, name=\"halo_old\")\n",
      "/home/mjt56/.local/lib/python3.8/site-packages/tangos-1.3.1-py3.8.egg/tangos/relation_finding/multi_hop.py:27: SAWarning: relationship 'TimeStep.objects' will copy column timesteps.id to column halos.timestep_id, which conflicts with relationship(s): 'TimeStep.halos' (copies timesteps.id to halos.timestep_id), 'TimeStep.trackers' (copies timesteps.id to halos.timestep_id), 'TimeStep.bhs' (copies timesteps.id to halos.timestep_id), 'TimeStep.groups' (copies timesteps.id to halos.timestep_id), 'TimeStep.phantoms' (copies timesteps.id to halos.timestep_id), 'TimeStep.links_from' (copies timesteps.id to halos.timestep_id), 'TimeStep.links_to' (copies timesteps.id to halos.timestep_id). If this is not the intention, consider if these relationships should be linked with back_populates, or if viewonly=True should be applied to one or more if they are read-only. For the less common case that foreign key constraints are partially overlapping, the orm.foreign() annotation can be used to isolate the columns that should be written towards.   The 'overlaps' parameter may be used to remove this warning.\n",
      "  halo_old = sqlalchemy.orm.aliased(core.halo.Halo, name=\"halo_old\")\n",
      "/home/mjt56/.local/lib/python3.8/site-packages/tangos-1.3.1-py3.8.egg/tangos/relation_finding/multi_hop.py:27: SAWarning: relationship 'Halo.timestep' will copy column timesteps.id to column halos.timestep_id, which conflicts with relationship(s): 'TimeStep.halos' (copies timesteps.id to halos.timestep_id), 'TimeStep.trackers' (copies timesteps.id to halos.timestep_id), 'TimeStep.bhs' (copies timesteps.id to halos.timestep_id), 'TimeStep.groups' (copies timesteps.id to halos.timestep_id), 'TimeStep.phantoms' (copies timesteps.id to halos.timestep_id), 'TimeStep.links_from' (copies timesteps.id to halos.timestep_id), 'TimeStep.links_to' (copies timesteps.id to halos.timestep_id). If this is not the intention, consider if these relationships should be linked with back_populates, or if viewonly=True should be applied to one or more if they are read-only. For the less common case that foreign key constraints are partially overlapping, the orm.foreign() annotation can be used to isolate the columns that should be written towards.   The 'overlaps' parameter may be used to remove this warning.\n",
      "  halo_old = sqlalchemy.orm.aliased(core.halo.Halo, name=\"halo_old\")\n",
      "/home/mjt56/.local/lib/python3.8/site-packages/tangos-1.3.1-py3.8.egg/tangos/relation_finding/multi_hop.py:27: SAWarning: relationship 'Halo.deprecated_properties' will copy column halos.id to column haloproperties.halo_id, which conflicts with relationship(s): 'Halo.properties' (copies halos.id to haloproperties.halo_id). If this is not the intention, consider if these relationships should be linked with back_populates, or if viewonly=True should be applied to one or more if they are read-only. For the less common case that foreign key constraints are partially overlapping, the orm.foreign() annotation can be used to isolate the columns that should be written towards.   The 'overlaps' parameter may be used to remove this warning.\n",
      "  halo_old = sqlalchemy.orm.aliased(core.halo.Halo, name=\"halo_old\")\n",
      "/home/mjt56/.local/lib/python3.8/site-packages/tangos-1.3.1-py3.8.egg/tangos/relation_finding/multi_hop.py:27: SAWarning: relationship 'Halo.all_links' will copy column halos.id to column halolink.halo_from_id, which conflicts with relationship(s): 'TimeStep.links_from' (copies halos.id to halolink.halo_from_id). If this is not the intention, consider if these relationships should be linked with back_populates, or if viewonly=True should be applied to one or more if they are read-only. For the less common case that foreign key constraints are partially overlapping, the orm.foreign() annotation can be used to isolate the columns that should be written towards.   The 'overlaps' parameter may be used to remove this warning.\n",
      "  halo_old = sqlalchemy.orm.aliased(core.halo.Halo, name=\"halo_old\")\n",
      "/home/mjt56/.local/lib/python3.8/site-packages/tangos-1.3.1-py3.8.egg/tangos/relation_finding/multi_hop.py:27: SAWarning: relationship 'Halo.all_reverse_links' will copy column halos.id to column halolink.halo_to_id, which conflicts with relationship(s): 'TimeStep.links_to' (copies halos.id to halolink.halo_to_id). If this is not the intention, consider if these relationships should be linked with back_populates, or if viewonly=True should be applied to one or more if they are read-only. For the less common case that foreign key constraints are partially overlapping, the orm.foreign() annotation can be used to isolate the columns that should be written towards.   The 'overlaps' parameter may be used to remove this warning.\n",
      "  halo_old = sqlalchemy.orm.aliased(core.halo.Halo, name=\"halo_old\")\n",
      "/home/mjt56/.local/lib/python3.8/site-packages/tangos-1.3.1-py3.8.egg/tangos/relation_finding/multi_hop.py:27: SAWarning: relationship 'Halo.all_properties' will copy column halos.id to column haloproperties.halo_id, which conflicts with relationship(s): 'Halo.properties' (copies halos.id to haloproperties.halo_id), 'Halo.deprecated_properties' (copies halos.id to haloproperties.halo_id). If this is not the intention, consider if these relationships should be linked with back_populates, or if viewonly=True should be applied to one or more if they are read-only. For the less common case that foreign key constraints are partially overlapping, the orm.foreign() annotation can be used to isolate the columns that should be written towards.   The 'overlaps' parameter may be used to remove this warning.\n",
      "  halo_old = sqlalchemy.orm.aliased(core.halo.Halo, name=\"halo_old\")\n",
      "/home/mjt56/.local/lib/python3.8/site-packages/tangos-1.3.1-py3.8.egg/tangos/relation_finding/multi_hop.py:27: SAWarning: relationship 'HaloProperty.halo' will copy column halos.id to column haloproperties.halo_id, which conflicts with relationship(s): 'Halo.properties' (copies halos.id to haloproperties.halo_id), 'Halo.deprecated_properties' (copies halos.id to haloproperties.halo_id). If this is not the intention, consider if these relationships should be linked with back_populates, or if viewonly=True should be applied to one or more if they are read-only. For the less common case that foreign key constraints are partially overlapping, the orm.foreign() annotation can be used to isolate the columns that should be written towards.   The 'overlaps' parameter may be used to remove this warning.\n",
      "  halo_old = sqlalchemy.orm.aliased(core.halo.Halo, name=\"halo_old\")\n",
      "/home/mjt56/.local/lib/python3.8/site-packages/tangos-1.3.1-py3.8.egg/tangos/relation_finding/multi_hop.py:27: SAWarning: relationship 'Halo.links' will copy column halos.id to column halolink.halo_from_id, which conflicts with relationship(s): 'TimeStep.links_from' (copies halos.id to halolink.halo_from_id), 'Halo.all_links' (copies halos.id to halolink.halo_from_id). If this is not the intention, consider if these relationships should be linked with back_populates, or if viewonly=True should be applied to one or more if they are read-only. For the less common case that foreign key constraints are partially overlapping, the orm.foreign() annotation can be used to isolate the columns that should be written towards.   The 'overlaps' parameter may be used to remove this warning.\n",
      "  halo_old = sqlalchemy.orm.aliased(core.halo.Halo, name=\"halo_old\")\n",
      "/home/mjt56/.local/lib/python3.8/site-packages/tangos-1.3.1-py3.8.egg/tangos/relation_finding/multi_hop.py:27: SAWarning: relationship 'HaloLink.halo_from' will copy column halos.id to column halolink.halo_from_id, which conflicts with relationship(s): 'TimeStep.links_from' (copies halos.id to halolink.halo_from_id), 'Halo.all_links' (copies halos.id to halolink.halo_from_id). If this is not the intention, consider if these relationships should be linked with back_populates, or if viewonly=True should be applied to one or more if they are read-only. For the less common case that foreign key constraints are partially overlapping, the orm.foreign() annotation can be used to isolate the columns that should be written towards.   The 'overlaps' parameter may be used to remove this warning.\n",
      "  halo_old = sqlalchemy.orm.aliased(core.halo.Halo, name=\"halo_old\")\n",
      "/home/mjt56/.local/lib/python3.8/site-packages/tangos-1.3.1-py3.8.egg/tangos/relation_finding/multi_hop.py:27: SAWarning: relationship 'Halo.reverse_links' will copy column halos.id to column halolink.halo_to_id, which conflicts with relationship(s): 'TimeStep.links_to' (copies halos.id to halolink.halo_to_id), 'Halo.all_reverse_links' (copies halos.id to halolink.halo_to_id). If this is not the intention, consider if these relationships should be linked with back_populates, or if viewonly=True should be applied to one or more if they are read-only. For the less common case that foreign key constraints are partially overlapping, the orm.foreign() annotation can be used to isolate the columns that should be written towards.   The 'overlaps' parameter may be used to remove this warning.\n",
      "  halo_old = sqlalchemy.orm.aliased(core.halo.Halo, name=\"halo_old\")\n",
      "/home/mjt56/.local/lib/python3.8/site-packages/tangos-1.3.1-py3.8.egg/tangos/relation_finding/multi_hop.py:27: SAWarning: relationship 'HaloLink.halo_to' will copy column halos.id to column halolink.halo_to_id, which conflicts with relationship(s): 'TimeStep.links_to' (copies halos.id to halolink.halo_to_id), 'Halo.all_reverse_links' (copies halos.id to halolink.halo_to_id). If this is not the intention, consider if these relationships should be linked with back_populates, or if viewonly=True should be applied to one or more if they are read-only. For the less common case that foreign key constraints are partially overlapping, the orm.foreign() annotation can be used to isolate the columns that should be written towards.   The 'overlaps' parameter may be used to remove this warning.\n",
      "  halo_old = sqlalchemy.orm.aliased(core.halo.Halo, name=\"halo_old\")\n"
     ]
    }
   ],
   "source": [
    "#start by importing some needed modules\n",
    "#You may see some warnings... unless it spits out an error, you can ignore them!\n",
    "import tangos as db\n",
    "import numpy as np\n",
    "import pynbody\n",
    "import matplotlib.pyplot as plt\n",
    "plt.ion()\n",
    "\n",
    "#Set up some properties to make the plots look nice\n",
    "plt.rcParams['figure.figsize'] = (12, 9) #set figure size\n",
    "plt.rcParams['font.size'] = 20 #set font size so things are readible and not too small or bit\n",
    "plt.rcParams['font.family'] = 'sans-serif' # just a font preference here\n",
    "plt.rcParams['xtick.major.size'] = 10 #size and widths of major/minor tick marks on plots\n",
    "plt.rcParams['xtick.major.width'] = 2\n",
    "plt.rcParams['ytick.major.size'] = 10\n",
    "plt.rcParams['ytick.major.width'] = 2\n",
    "plt.rcParams['xtick.minor.size'] = 5\n",
    "plt.rcParams['xtick.minor.width'] = 1\n",
    "plt.rcParams['ytick.minor.size'] = 5\n",
    "plt.rcParams['ytick.minor.width'] = 1\n",
    "\n",
    "\n",
    "#load in the database simulation (also a good check that you are reading the right database file!)\n",
    "sim = db.get_simulation('cosmo25')"
   ]
  },
  {
   "cell_type": "markdown",
   "id": "fd2078c4",
   "metadata": {},
   "source": [
    "<a id='test2'> </a>"
   ]
  },
  {
   "cell_type": "code",
   "execution_count": 2,
   "id": "27df0a4e",
   "metadata": {
    "tags": []
   },
   "outputs": [
    {
     "data": {
      "text/plain": [
       "[<TimeStep 'cosmo25/cosmo25p.768sg1bwK1BHe75.000098' z=20.00 t=0.18 Gyr>,\n",
       " <TimeStep 'cosmo25/cosmo25p.768sg1bwK1BHe75.000105' z=19.13 t=0.19 Gyr>,\n",
       " <TimeStep 'cosmo25/cosmo25p.768sg1bwK1BHe75.000111' z=18.45 t=0.20 Gyr>,\n",
       " <TimeStep 'cosmo25/cosmo25p.768sg1bwK1BHe75.000118' z=17.73 t=0.21 Gyr>,\n",
       " <TimeStep 'cosmo25/cosmo25p.768sg1bwK1BHe75.000126' z=16.98 t=0.23 Gyr>,\n",
       " <TimeStep 'cosmo25/cosmo25p.768sg1bwK1BHe75.000134' z=16.31 t=0.24 Gyr>,\n",
       " <TimeStep 'cosmo25/cosmo25p.768sg1bwK1BHe75.000142' z=15.69 t=0.25 Gyr>,\n",
       " <TimeStep 'cosmo25/cosmo25p.768sg1bwK1BHe75.000151' z=15.06 t=0.27 Gyr>,\n",
       " <TimeStep 'cosmo25/cosmo25p.768sg1bwK1BHe75.000160' z=14.48 t=0.28 Gyr>,\n",
       " <TimeStep 'cosmo25/cosmo25p.768sg1bwK1BHe75.000170' z=13.90 t=0.30 Gyr>,\n",
       " <TimeStep 'cosmo25/cosmo25p.768sg1bwK1BHe75.000181' z=13.32 t=0.32 Gyr>,\n",
       " <TimeStep 'cosmo25/cosmo25p.768sg1bwK1BHe75.000192' z=12.79 t=0.34 Gyr>,\n",
       " <TimeStep 'cosmo25/cosmo25p.768sg1bwK1BHe75.000204' z=12.27 t=0.36 Gyr>,\n",
       " <TimeStep 'cosmo25/cosmo25p.768sg1bwK1BHe75.000216' z=11.79 t=0.38 Gyr>,\n",
       " <TimeStep 'cosmo25/cosmo25p.768sg1bwK1BHe75.000229' z=11.32 t=0.40 Gyr>,\n",
       " <TimeStep 'cosmo25/cosmo25p.768sg1bwK1BHe75.000243' z=10.86 t=0.42 Gyr>,\n",
       " <TimeStep 'cosmo25/cosmo25p.768sg1bwK1BHe75.000256' z=10.47 t=0.45 Gyr>,\n",
       " <TimeStep 'cosmo25/cosmo25p.768sg1bwK1BHe75.000258' z=10.41 t=0.45 Gyr>,\n",
       " <TimeStep 'cosmo25/cosmo25p.768sg1bwK1BHe75.000274' z=9.98 t=0.48 Gyr>,\n",
       " <TimeStep 'cosmo25/cosmo25p.768sg1bwK1BHe75.000290' z=9.58 t=0.50 Gyr>,\n",
       " <TimeStep 'cosmo25/cosmo25p.768sg1bwK1BHe75.000308' z=9.17 t=0.53 Gyr>,\n",
       " <TimeStep 'cosmo25/cosmo25p.768sg1bwK1BHe75.000372' z=8.00 t=0.64 Gyr>,\n",
       " <TimeStep 'cosmo25/cosmo25p.768sg1bwK1BHe75.000437' z=7.10 t=0.75 Gyr>,\n",
       " <TimeStep 'cosmo25/cosmo25p.768sg1bwK1BHe75.000446' z=6.99 t=0.77 Gyr>,\n",
       " <TimeStep 'cosmo25/cosmo25p.768sg1bwK1BHe75.000463' z=6.80 t=0.79 Gyr>,\n",
       " <TimeStep 'cosmo25/cosmo25p.768sg1bwK1BHe75.000491' z=6.51 t=0.84 Gyr>,\n",
       " <TimeStep 'cosmo25/cosmo25p.768sg1bwK1BHe75.000512' z=6.30 t=0.88 Gyr>,\n",
       " <TimeStep 'cosmo25/cosmo25p.768sg1bwK1BHe75.000520' z=6.23 t=0.89 Gyr>,\n",
       " <TimeStep 'cosmo25/cosmo25p.768sg1bwK1BHe75.000547' z=5.99 t=0.94 Gyr>,\n",
       " <TimeStep 'cosmo25/cosmo25p.768sg1bwK1BHe75.000551' z=5.96 t=0.94 Gyr>,\n",
       " <TimeStep 'cosmo25/cosmo25p.768sg1bwK1BHe75.000584' z=5.70 t=1.00 Gyr>,\n",
       " <TimeStep 'cosmo25/cosmo25p.768sg1bwK1BHe75.000618' z=5.45 t=1.06 Gyr>,\n",
       " <TimeStep 'cosmo25/cosmo25p.768sg1bwK1BHe75.000655' z=5.21 t=1.12 Gyr>,\n",
       " <TimeStep 'cosmo25/cosmo25p.768sg1bwK1BHe75.000690' z=5.00 t=1.18 Gyr>,\n",
       " <TimeStep 'cosmo25/cosmo25p.768sg1bwK1BHe75.000694' z=4.98 t=1.18 Gyr>,\n",
       " <TimeStep 'cosmo25/cosmo25p.768sg1bwK1BHe75.000735' z=4.75 t=1.25 Gyr>,\n",
       " <TimeStep 'cosmo25/cosmo25p.768sg1bwK1BHe75.000768' z=4.59 t=1.31 Gyr>,\n",
       " <TimeStep 'cosmo25/cosmo25p.768sg1bwK1BHe75.000778' z=4.54 t=1.32 Gyr>,\n",
       " <TimeStep 'cosmo25/cosmo25p.768sg1bwK1BHe75.000824' z=4.34 t=1.40 Gyr>,\n",
       " <TimeStep 'cosmo25/cosmo25p.768sg1bwK1BHe75.000873' z=4.13 t=1.48 Gyr>,\n",
       " <TimeStep 'cosmo25/cosmo25p.768sg1bwK1BHe75.000909' z=4.00 t=1.54 Gyr>,\n",
       " <TimeStep 'cosmo25/cosmo25p.768sg1bwK1BHe75.000924' z=3.94 t=1.57 Gyr>,\n",
       " <TimeStep 'cosmo25/cosmo25p.768sg1bwK1BHe75.000979' z=3.76 t=1.66 Gyr>,\n",
       " <TimeStep 'cosmo25/cosmo25p.768sg1bwK1BHe75.001024' z=3.62 t=1.74 Gyr>,\n",
       " <TimeStep 'cosmo25/cosmo25p.768sg1bwK1BHe75.001036' z=3.58 t=1.76 Gyr>,\n",
       " <TimeStep 'cosmo25/cosmo25p.768sg1bwK1BHe75.001065' z=3.50 t=1.81 Gyr>,\n",
       " <TimeStep 'cosmo25/cosmo25p.768sg1bwK1BHe75.001097' z=3.41 t=1.86 Gyr>,\n",
       " <TimeStep 'cosmo25/cosmo25p.768sg1bwK1BHe75.001162' z=3.24 t=1.97 Gyr>,\n",
       " <TimeStep 'cosmo25/cosmo25p.768sg1bwK1BHe75.001230' z=3.09 t=2.08 Gyr>,\n",
       " <TimeStep 'cosmo25/cosmo25p.768sg1bwK1BHe75.001270' z=3.00 t=2.15 Gyr>,\n",
       " <TimeStep 'cosmo25/cosmo25p.768sg1bwK1BHe75.001280' z=2.98 t=2.17 Gyr>,\n",
       " <TimeStep 'cosmo25/cosmo25p.768sg1bwK1BHe75.001302' z=2.93 t=2.21 Gyr>,\n",
       " <TimeStep 'cosmo25/cosmo25p.768sg1bwK1BHe75.001378' z=2.79 t=2.33 Gyr>,\n",
       " <TimeStep 'cosmo25/cosmo25p.768sg1bwK1BHe75.001458' z=2.65 t=2.47 Gyr>,\n",
       " <TimeStep 'cosmo25/cosmo25p.768sg1bwK1BHe75.001536' z=2.52 t=2.60 Gyr>,\n",
       " <TimeStep 'cosmo25/cosmo25p.768sg1bwK1BHe75.001543' z=2.51 t=2.61 Gyr>,\n",
       " <TimeStep 'cosmo25/cosmo25p.768sg1bwK1BHe75.001550' z=2.50 t=2.62 Gyr>,\n",
       " <TimeStep 'cosmo25/cosmo25p.768sg1bwK1BHe75.001632' z=2.38 t=2.76 Gyr>,\n",
       " <TimeStep 'cosmo25/cosmo25p.768sg1bwK1BHe75.001726' z=2.25 t=2.92 Gyr>,\n",
       " <TimeStep 'cosmo25/cosmo25p.768sg1bwK1BHe75.001792' z=2.17 t=3.03 Gyr>,\n",
       " <TimeStep 'cosmo25/cosmo25p.768sg1bwK1BHe75.001826' z=2.13 t=3.09 Gyr>,\n",
       " <TimeStep 'cosmo25/cosmo25p.768sg1bwK1BHe75.001931' z=2.01 t=3.26 Gyr>,\n",
       " <TimeStep 'cosmo25/cosmo25p.768sg1bwK1BHe75.001945' z=2.00 t=3.29 Gyr>,\n",
       " <TimeStep 'cosmo25/cosmo25p.768sg1bwK1BHe75.002042' z=1.90 t=3.45 Gyr>,\n",
       " <TimeStep 'cosmo25/cosmo25p.768sg1bwK1BHe75.002048' z=1.90 t=3.46 Gyr>,\n",
       " <TimeStep 'cosmo25/cosmo25p.768sg1bwK1BHe75.002159' z=1.79 t=3.65 Gyr>,\n",
       " <TimeStep 'cosmo25/cosmo25p.768sg1bwK1BHe75.002281' z=1.69 t=3.85 Gyr>,\n",
       " <TimeStep 'cosmo25/cosmo25p.768sg1bwK1BHe75.002304' z=1.67 t=3.89 Gyr>,\n",
       " <TimeStep 'cosmo25/cosmo25p.768sg1bwK1BHe75.002411' z=1.59 t=4.07 Gyr>,\n",
       " <TimeStep 'cosmo25/cosmo25p.768sg1bwK1BHe75.002536' z=1.50 t=4.28 Gyr>,\n",
       " <TimeStep 'cosmo25/cosmo25p.768sg1bwK1BHe75.002547' z=1.49 t=4.30 Gyr>,\n",
       " <TimeStep 'cosmo25/cosmo25p.768sg1bwK1BHe75.002560' z=1.48 t=4.32 Gyr>,\n",
       " <TimeStep 'cosmo25/cosmo25p.768sg1bwK1BHe75.002690' z=1.40 t=4.54 Gyr>,\n",
       " <TimeStep 'cosmo25/cosmo25p.768sg1bwK1BHe75.002816' z=1.32 t=4.75 Gyr>,\n",
       " <TimeStep 'cosmo25/cosmo25p.768sg1bwK1BHe75.002840' z=1.31 t=4.79 Gyr>,\n",
       " <TimeStep 'cosmo25/cosmo25p.768sg1bwK1BHe75.002998' z=1.22 t=5.06 Gyr>,\n",
       " <TimeStep 'cosmo25/cosmo25p.768sg1bwK1BHe75.003072' z=1.19 t=5.18 Gyr>,\n",
       " <TimeStep 'cosmo25/cosmo25p.768sg1bwK1BHe75.003163' z=1.14 t=5.34 Gyr>,\n",
       " <TimeStep 'cosmo25/cosmo25p.768sg1bwK1BHe75.003328' z=1.06 t=5.62 Gyr>,\n",
       " <TimeStep 'cosmo25/cosmo25p.768sg1bwK1BHe75.003336' z=1.06 t=5.63 Gyr>,\n",
       " <TimeStep 'cosmo25/cosmo25p.768sg1bwK1BHe75.003478' z=1.00 t=5.87 Gyr>,\n",
       " <TimeStep 'cosmo25/cosmo25p.768sg1bwK1BHe75.003517' z=0.98 t=5.93 Gyr>,\n",
       " <TimeStep 'cosmo25/cosmo25p.768sg1bwK1BHe75.003584' z=0.96 t=6.05 Gyr>,\n",
       " <TimeStep 'cosmo25/cosmo25p.768sg1bwK1BHe75.003707' z=0.91 t=6.25 Gyr>,\n",
       " <TimeStep 'cosmo25/cosmo25p.768sg1bwK1BHe75.003840' z=0.86 t=6.48 Gyr>,\n",
       " <TimeStep 'cosmo25/cosmo25p.768sg1bwK1BHe75.003905' z=0.84 t=6.59 Gyr>,\n",
       " <TimeStep 'cosmo25/cosmo25p.768sg1bwK1BHe75.004096' z=0.77 t=6.91 Gyr>,\n",
       " <TimeStep 'cosmo25/cosmo25p.768sg1bwK1BHe75.004111' z=0.77 t=6.93 Gyr>,\n",
       " <TimeStep 'cosmo25/cosmo25p.768sg1bwK1BHe75.004173' z=0.75 t=7.04 Gyr>,\n",
       " <TimeStep 'cosmo25/cosmo25p.768sg1bwK1BHe75.004326' z=0.70 t=7.29 Gyr>,\n",
       " <TimeStep 'cosmo25/cosmo25p.768sg1bwK1BHe75.004352' z=0.70 t=7.34 Gyr>,\n",
       " <TimeStep 'cosmo25/cosmo25p.768sg1bwK1BHe75.004549' z=0.64 t=7.67 Gyr>,\n",
       " <TimeStep 'cosmo25/cosmo25p.768sg1bwK1BHe75.004608' z=0.62 t=7.77 Gyr>,\n",
       " <TimeStep 'cosmo25/cosmo25p.768sg1bwK1BHe75.004781' z=0.58 t=8.06 Gyr>,\n",
       " <TimeStep 'cosmo25/cosmo25p.768sg1bwK1BHe75.004864' z=0.56 t=8.20 Gyr>,\n",
       " <TimeStep 'cosmo25/cosmo25p.768sg1bwK1BHe75.005022' z=0.52 t=8.47 Gyr>,\n",
       " <TimeStep 'cosmo25/cosmo25p.768sg1bwK1BHe75.005107' z=0.50 t=8.61 Gyr>,\n",
       " <TimeStep 'cosmo25/cosmo25p.768sg1bwK1BHe75.005120' z=0.50 t=8.63 Gyr>,\n",
       " <TimeStep 'cosmo25/cosmo25p.768sg1bwK1BHe75.005271' z=0.46 t=8.89 Gyr>,\n",
       " <TimeStep 'cosmo25/cosmo25p.768sg1bwK1BHe75.005376' z=0.44 t=9.06 Gyr>,\n",
       " <TimeStep 'cosmo25/cosmo25p.768sg1bwK1BHe75.005529' z=0.41 t=9.32 Gyr>,\n",
       " <TimeStep 'cosmo25/cosmo25p.768sg1bwK1BHe75.005632' z=0.39 t=9.49 Gyr>,\n",
       " <TimeStep 'cosmo25/cosmo25p.768sg1bwK1BHe75.005795' z=0.36 t=9.77 Gyr>,\n",
       " <TimeStep 'cosmo25/cosmo25p.768sg1bwK1BHe75.005888' z=0.34 t=9.92 Gyr>,\n",
       " <TimeStep 'cosmo25/cosmo25p.768sg1bwK1BHe75.006069' z=0.31 t=10.23 Gyr>,\n",
       " <TimeStep 'cosmo25/cosmo25p.768sg1bwK1BHe75.006144' z=0.29 t=10.35 Gyr>,\n",
       " <TimeStep 'cosmo25/cosmo25p.768sg1bwK1BHe75.006350' z=0.26 t=10.70 Gyr>,\n",
       " <TimeStep 'cosmo25/cosmo25p.768sg1bwK1BHe75.006390' z=0.25 t=10.77 Gyr>,\n",
       " <TimeStep 'cosmo25/cosmo25p.768sg1bwK1BHe75.006400' z=0.25 t=10.79 Gyr>,\n",
       " <TimeStep 'cosmo25/cosmo25p.768sg1bwK1BHe75.006640' z=0.21 t=11.19 Gyr>,\n",
       " <TimeStep 'cosmo25/cosmo25p.768sg1bwK1BHe75.006656' z=0.21 t=11.22 Gyr>,\n",
       " <TimeStep 'cosmo25/cosmo25p.768sg1bwK1BHe75.006912' z=0.17 t=11.65 Gyr>,\n",
       " <TimeStep 'cosmo25/cosmo25p.768sg1bwK1BHe75.006937' z=0.16 t=11.69 Gyr>,\n",
       " <TimeStep 'cosmo25/cosmo25p.768sg1bwK1BHe75.007168' z=0.13 t=12.08 Gyr>,\n",
       " <TimeStep 'cosmo25/cosmo25p.768sg1bwK1BHe75.007212' z=0.12 t=12.15 Gyr>,\n",
       " <TimeStep 'cosmo25/cosmo25p.768sg1bwK1BHe75.007241' z=0.12 t=12.20 Gyr>,\n",
       " <TimeStep 'cosmo25/cosmo25p.768sg1bwK1BHe75.007394' z=0.10 t=12.46 Gyr>,\n",
       " <TimeStep 'cosmo25/cosmo25p.768sg1bwK1BHe75.007424' z=0.10 t=12.51 Gyr>,\n",
       " <TimeStep 'cosmo25/cosmo25p.768sg1bwK1BHe75.007552' z=0.08 t=12.72 Gyr>,\n",
       " <TimeStep 'cosmo25/cosmo25p.768sg1bwK1BHe75.007680' z=0.06 t=12.94 Gyr>,\n",
       " <TimeStep 'cosmo25/cosmo25p.768sg1bwK1BHe75.007779' z=0.05 t=13.11 Gyr>,\n",
       " <TimeStep 'cosmo25/cosmo25p.768sg1bwK1BHe75.007869' z=0.04 t=13.26 Gyr>,\n",
       " <TimeStep 'cosmo25/cosmo25p.768sg1bwK1BHe75.007936' z=0.03 t=13.37 Gyr>,\n",
       " <TimeStep 'cosmo25/cosmo25p.768sg1bwK1BHe75.008192' z=-0.00 t=13.80 Gyr>]"
      ]
     },
     "execution_count": 2,
     "metadata": {},
     "output_type": "execute_result"
    }
   ],
   "source": [
    "#list all the timesteps available in the simulation you've loaded\n",
    "sim.timesteps"
   ]
  },
  {
   "cell_type": "code",
   "execution_count": null,
   "id": "e7c8c6b7",
   "metadata": {},
   "outputs": [],
   "source": [
    "#each timestep has associated halos (or galaxies). Here we extract the first halo from the last timestep\n",
    "#Note: for lists or arrays an index of -1 means the last value\n",
    "#Also note: the first index is 'normal' in that the first is 0, second is 1 and so on\n",
    "#but the second index that corresponds to the halo number starts at 1 and goes 2, 3, ... and so on.\n",
    "\n",
    "#In our simulations, halo 1 is always the most massive halo in the simulation, 2 the second most massive, etc.\n",
    "\n",
    "print('Halo Number 1:', sim.timesteps[-1][1])\n",
    "print('Halo Number 2:', sim.timesteps[-1][2])"
   ]
  },
  {
   "cell_type": "code",
   "execution_count": null,
   "id": "1215031a",
   "metadata": {},
   "outputs": [],
   "source": [
    "#we can also ask for specific halos in this way\n",
    "#here we are extracting halo number 1 from step 8192 in simulation cosmo25\n",
    "halo1 = db.get_halo('cosmo25/%8192/1') #in general: 'simname/%stepnumber/halonumber'\n",
    "print(halo1)\n"
   ]
  },
  {
   "cell_type": "code",
   "execution_count": null,
   "id": "10f6e75d",
   "metadata": {},
   "outputs": [],
   "source": [
    "#There are many halos in the simulation... this one is similar in mass to the Milky Way!\n",
    "halo48 = db.get_halo('cosmo25/%8192/48') #note the only change from the previous box is in the last number (the halo number)\n",
    "print(halo48)\n"
   ]
  },
  {
   "cell_type": "code",
   "execution_count": null,
   "id": "76bb1831",
   "metadata": {},
   "outputs": [],
   "source": [
    "#Each halo has many associated properties, including black holes!\n",
    "halo48.keys() #list all the available properties\n"
   ]
  },
  {
   "cell_type": "code",
   "execution_count": null,
   "id": "f9cfc6d4",
   "metadata": {},
   "outputs": [],
   "source": [
    "# Yeah, there's a lot... Here are a few particularly useful ones!\n",
    "# You may notice these don't have any units. The typical units are as follows\n",
    "# Mass -> Solar Masses (Msol)\n",
    "# Position/Distance/Radius -> Kiloparsec (kpc) [1 kpc ~ 3,000 light years]\n",
    "# Time -> Gigayears (Gyr) [1 billion years]\n",
    "\n",
    "\n",
    "print('Stellar Mass:', halo48['Mstar'], 'Msol')\n",
    "print('Total Halo Mass:', halo48['Mvir'], 'Msol')\n",
    "print('Total Gas Mass:', halo48['Mgas'], 'Msol')\n",
    "print('Cold Gas Mass:', halo48['MColdGas'], 'Msol')\n",
    "print('Position (x,y,z) of the Halo in the Volume:', halo48['shrink_center'], 'kpc')"
   ]
  },
  {
   "cell_type": "code",
   "execution_count": null,
   "id": "272579a6",
   "metadata": {},
   "outputs": [],
   "source": [
    "#The Image properties store images of the galaxies! We can use the plotting function imshow to view them\n",
    "#Don't pay attention to the tick mark labels...\n",
    "\n",
    "plt.imshow(halo48['stellar_image_sideon'])"
   ]
  },
  {
   "cell_type": "code",
   "execution_count": null,
   "id": "60c0f4c8",
   "metadata": {},
   "outputs": [],
   "source": [
    "# Above we see the side on image of a disk, but we can also look face on\n",
    "plt.imshow(halo48['stellar_image_faceon'])"
   ]
  },
  {
   "cell_type": "code",
   "execution_count": null,
   "id": "693c0a47",
   "metadata": {},
   "outputs": [],
   "source": [
    "#In addition to stars, we can also look at gas density\n",
    "plt.imshow(halo48['gas_image_sideon'])"
   ]
  },
  {
   "cell_type": "markdown",
   "id": "5024f5df",
   "metadata": {},
   "source": [
    "<h3> Profiles </h3>"
   ]
  },
  {
   "cell_type": "code",
   "execution_count": null,
   "id": "449fb376",
   "metadata": {},
   "outputs": [],
   "source": [
    "# Some properties are not single values, but arrays of values\n",
    "# An example of this are profile properties. For example, dm_density_profile\n",
    "print(\"Dark Matter Density Profile:\", halo48['dm_density_profile'])"
   ]
  },
  {
   "cell_type": "code",
   "execution_count": null,
   "id": "d91150b6",
   "metadata": {},
   "outputs": [],
   "source": [
    "# each profile is calculated from halo center to the edge in bins of 0.1 kpc\n",
    "# So, the first value represents the density of dark matter within the inner 0-0.1 kpc of the halo\n",
    "# The next value would be the density at 0.1-0.2 kpc, third at 0.2-0.3 and so on.\n",
    "# You can plot it like this:\n",
    "\n",
    "rbins = np.arange(len(halo48['dm_density_profile']))*0.1+0.05\n",
    "plt.plot(rbins,halo48['dm_density_profile'])\n",
    "plt.yscale('log') #make axes in log space (each tick goes up by a factor of 10)\n",
    "plt.xscale('log')\n",
    "#label the axes! $'s mark where you are doing math notation [don't worry too much about this right now]\n",
    "plt.ylabel('DM Density [Msol/kpc$^3$]')\n",
    "plt.xlabel('R [kpc]')"
   ]
  },
  {
   "cell_type": "code",
   "execution_count": null,
   "id": "055ed6f5",
   "metadata": {},
   "outputs": [],
   "source": [
    "# You can also plot the dentity of stars and gas. \n",
    "# For this, let's also make our plot bigger\n",
    "\n",
    "rbins = np.arange(len(halo48['star_density_profile']))*0.1+0.05\n",
    "plt.plot(rbins,halo48['star_density_profile'])\n",
    "plt.yscale('log')\n",
    "plt.xscale('log')\n",
    "plt.ylabel(r'Star Density [Msol/kpc$^3$]')\n",
    "plt.xlabel(r'R [kpc]')"
   ]
  },
  {
   "cell_type": "code",
   "execution_count": null,
   "id": "a9426158",
   "metadata": {},
   "outputs": [],
   "source": [
    "# Finally, let's plot the Gas\n",
    "\n",
    "plt.rcParams['figure.figsize'] = (12, 9) #make figure bigger\n",
    "\n",
    "rbins = np.arange(len(halo48['gas_density_profile']))*0.1+0.05\n",
    "plt.plot(rbins,halo48['gas_density_profile'])\n",
    "plt.yscale('log')\n",
    "plt.xscale('log')\n",
    "plt.ylabel(r'gas Density [Msol/kpc$^3$]')\n",
    "plt.xlabel(r'R [kpc]')"
   ]
  },
  {
   "cell_type": "code",
   "execution_count": null,
   "id": "87490380",
   "metadata": {},
   "outputs": [],
   "source": [
    "# Now, let's compare the three densities!\n",
    "# For this, we can plot multiple lines on the same figure\n",
    "# But, we also need to LABEL them!\n",
    "\n",
    "rbins = np.arange(len(halo48['dm_density_profile']))*0.1+0.05 # Each profile uses the same radial bins\n",
    "\n",
    "#In addition to labeling them, let's also make the line styles (ls) different\n",
    "plt.plot(rbins,halo48['dm_density_profile'], label='Dark Matter', ls='-') #solid\n",
    "plt.plot(rbins,halo48['star_density_profile'], label='Stars', ls='--') #dashed (--)\n",
    "plt.plot(rbins,halo48['gas_density_profile'], label='Gas', ls=':') #dotted (:)\n",
    "\n",
    "plt.yscale('log')\n",
    "plt.xscale('log')\n",
    "plt.ylabel(r'gas Density [Msol/kpc$^3$]')\n",
    "plt.xlabel(r'R [kpc]')\n",
    "plt.legend(loc='upper right') #create a legend for the plot and set the location with loc\n",
    "#other options for location are lower/upper/center left/center/right"
   ]
  },
  {
   "cell_type": "code",
   "execution_count": null,
   "id": "b6d30847",
   "metadata": {},
   "outputs": [],
   "source": [
    "# Another Interesting Profile are the mass profiles. \n",
    "# While the density profiles gave the average Mass / Volume at different radii, \n",
    "# these profiles measure the total mass within a given radius\n",
    "\n",
    "# One way to do use these profiles would be to extract the mass of gas/stars/dark matter within different radii\n",
    "# For this, we can use the at() function in TANGOS, which we can call with the calculate method\n",
    "\n",
    "print(halo48.calculate('at(10,dm_mass_profile)'))\n",
    "\n",
    "# this will extract the value of the dm_mass_profile at 10 kpc.\n",
    "# So, in general, you would write 'at(<distance>, property)'\n",
    "# The at() function can be used with any profile property in the same way\n",
    "\n"
   ]
  },
  {
   "cell_type": "markdown",
   "id": "b795cc0d",
   "metadata": {},
   "source": [
    "<h3> Tracing Galaxies Back in Time </h3>"
   ]
  },
  {
   "cell_type": "code",
   "execution_count": null,
   "id": "382901ae",
   "metadata": {},
   "outputs": [],
   "source": [
    "# Each galaxy can be traced backward or forward in time so you can examine how it evolves.\n",
    "\n",
    "#Let's find a new halo in the middle of the simulation, rather than at the end.\n",
    "\n",
    "halo10 = db.get_halo('cosmo25/%4096/10')\n",
    "print(halo10)\n",
    "\n",
    "#find the halo in the previous timestep\n",
    "print(\"Previous Step: \", halo10.previous)\n",
    "\n",
    "#find the halo in the next timestep\n",
    "print(\"Next Step: \", halo10.next)\n",
    "\n"
   ]
  },
  {
   "cell_type": "code",
   "execution_count": null,
   "id": "7eafdbf2",
   "metadata": {},
   "outputs": [],
   "source": [
    "# Now, we can systematically extract properties across the entire history of a galaxy.\n",
    "# This is done using the calculate_for_progenitors function, which takes as arguments any number of stored properties\n",
    "# For this, let's go back to halo 48 at step 8192 (the last step in the simulation)\n",
    "\n",
    "# Here we ask for two properties: Mvir [total mass] and t() [the time at each snapshot]\n",
    "halo_mass_history, time = halo48.calculate_for_progenitors('Mvir', 't()')\n",
    "\n",
    "# this will give us two arrays: the mass of this halo through time \n",
    "# and the time at which each value of mass_hist was found in the simulation outputs\n",
    "# Note the time values go backwards and are presented as time since the big bang\n",
    "# So, the first value is 13.8 (present day) with decreasing time as you go backward toward the start of the Universe\n",
    "\n",
    "print('Mass values through time:', halo_mass_history)\n",
    "print('Time:', time)\n"
   ]
  },
  {
   "cell_type": "code",
   "execution_count": null,
   "id": "a1b6adaf",
   "metadata": {},
   "outputs": [],
   "source": [
    "# Now we can plot these values to get a sense of how our halo grew over time\n",
    "\n",
    "plt.plot(time, halo_mass_history)\n",
    "plt.yscale('log') #when plotting against time, we usually don't want to view time in log-space. Only the y-values!\n",
    "plt.xlabel('Time [Gyr]')\n",
    "plt.ylabel('Halo Mass [Msol]')"
   ]
  },
  {
   "cell_type": "code",
   "execution_count": null,
   "id": "be631cba",
   "metadata": {},
   "outputs": [],
   "source": [
    "# We can do this with all sorts of properties and we can ask for any number at a time\n",
    "\n",
    "# Here, we ask for both the halo mass and stellar mass of the halo, as well as the time\n",
    "halo_mass_history, stellar_mass_history, time = halo48.calculate_for_progenitors('Mvir', 'Mstar', 't()')\n",
    "\n",
    "# Now we can plot more complicated quantities. Here, we plot the ratio of stellar to total mass over time\n",
    "plt.plot(time, stellar_mass_history/halo_mass_history)\n",
    "plt.yscale('log')\n",
    "\n",
    "#to make this a bit more clear, we can change the y limits\n",
    "plt.ylim(0.001, 0.1)\n",
    "\n",
    "plt.xlabel('Time [Gyr]')\n",
    "plt.ylabel('Stellar Mass / Halo Mass')"
   ]
  },
  {
   "cell_type": "markdown",
   "id": "61238f04",
   "metadata": {},
   "source": [
    "<h3> Histogram Properties </h3>"
   ]
  },
  {
   "cell_type": "code",
   "execution_count": null,
   "id": "6aba1af6",
   "metadata": {},
   "outputs": [],
   "source": [
    "# There are some properties with Histogram in their name. \n",
    "# These automatically follow the galaxy back through time to create a detailed history\n",
    "# The basic example of this is the SFR_histogram (\"SFR\" = Star Fromation Rate)\n",
    "# The star formation rate is a measure at how rapidly a galaxy is forming stars\n",
    "# It is measured in Mass of stars formed per unit time. Here our units will be Msol/year (\"solar masses per year\")\n",
    "\n",
    "SFR = halo48['SFR_histogram']\n",
    "\n",
    "# This property is a histogram, meaning that it bins the stars formed in the simulation into bins of formation times\n",
    "# The property that you get out is the average SFR during each bin of time\n",
    "# (This is similar to how profiles split the position within the galaxy into radial bins of size 0.1 kpc)\n",
    "# To check with the time bin size is you can do the following:\n",
    "dt = sim[\"histogram_delta_t_Gyr\"]\n",
    "\n",
    "# Similar to profiles, we need to create an array of time to match up with our SFR history\n",
    "\n",
    "time_sfr = np.arange(len(SFR)) * dt + dt/2.\n",
    "\n"
   ]
  },
  {
   "cell_type": "code",
   "execution_count": null,
   "id": "c2c0785a",
   "metadata": {},
   "outputs": [],
   "source": [
    "# Let's see what we get out\n",
    "\n",
    "print('SFR:', SFR)\n",
    "print('Time:', time_sfr)"
   ]
  },
  {
   "cell_type": "code",
   "execution_count": null,
   "id": "ec465395",
   "metadata": {},
   "outputs": [],
   "source": [
    "#Now we are ready to plot!\n",
    "\n",
    "#SFR is a really interesting quantity because it can help us distinguish interesting times in our galaxy's history\n",
    "\n",
    "# For example, you can see it has an interesting period of very strong star formation, followed by a huge drop.\n",
    "# What happened there?! Then things slowly rise again and seem pretty steady over time. \n",
    "# Clearly this period from 2-6 Gyr has a lot of evolution going on... \n",
    "\n",
    "plt.plot(time_sfr, halo48['SFR_histogram'])\n",
    "plt.xlabel('Time [Gyr]')\n",
    "plt.ylabel('SFR [Msol/yr]')\n",
    "\n"
   ]
  },
  {
   "cell_type": "markdown",
   "id": "d5f085c5",
   "metadata": {},
   "source": [
    "<h3> Examining Populations of Galaxies </h3>"
   ]
  },
  {
   "cell_type": "code",
   "execution_count": null,
   "id": "63119cea",
   "metadata": {},
   "outputs": [],
   "source": [
    "# while it is nice to look at single galaxies in the simulation, Romulus25 has thousands of galaxies!\n",
    "# One way we can take advantage of such a rich dataset is by plotting different properties of galaxies \n",
    "# against each other in order to understand how they are related.\n",
    "\n",
    "# TANGOS allows us to extract the same properties for every galaxy in a given timestep using calculate_all\n",
    "\n",
    "# First, collect the last timestep of the simulation\n",
    "step = db.get_timestep('cosmo25/%8192')\n",
    "\n",
    "# Now, ask TANGOS to find three properties: Halo Mass, Stellar Mass, and the halo number for \n",
    "# every halo/galaxy at that step\n",
    "# Note halo number is a new property! It just provides each halo's identification number.\n",
    "# It is a good idea to extract this so you can find individual halos that may pop out at you as interesting\n",
    "\n",
    "halo_mass, stellar_mass, halo_number = step.calculate_all('Mvir','Mstar','halo_number()')\n",
    "\n"
   ]
  },
  {
   "cell_type": "code",
   "execution_count": null,
   "id": "3d428e3c",
   "metadata": {},
   "outputs": [],
   "source": [
    "# Now we can plot our data!\n",
    "# Here we plot stellar mass on the y-axis and halo mass on the x-axis\n",
    "\n",
    "# ls = '' means we will just be plotting points\n",
    "# marker='o' tells the code to plot each point as a dot\n",
    "\n",
    "# The tricky thing is that some halos will have zero stellar mass! But we still want to plot the log values\n",
    "# This is a problem because log(0) = -infinit (not good!)\n",
    "# So, we can limit our plotting only to those galaxies that have some stars using np.where\n",
    "# This will give us the indices in our arrays that have a POSITIVE stellar mass\n",
    "ok_to_plot = np.where(stellar_mass > 0)\n",
    "\n",
    "# The scatter function plots individual points rather than lines\n",
    "# We still input x and y date similar with plt.plot()\n",
    "# Now we also index our value arrays by our ok_to_plot variable defined above\n",
    "# This will ensure that the data we plot only includes values we want.\n",
    "# Note: make sure you apply this to BOTH the x and y variables, as below\n",
    "# We still want each x value to have its corresponding y value for each galaxy\n",
    "\n",
    "plt.scatter(halo_mass[ok_to_plot], stellar_mass[ok_to_plot], marker='o', c='k')\n",
    "plt.yscale('log')\n",
    "plt.xscale('log')\n",
    "plt.xlabel('Halo Mass [Msol]')\n",
    "plt.ylabel('Stellar Mass [Msol]')\n",
    "\n"
   ]
  },
  {
   "cell_type": "code",
   "execution_count": null,
   "id": "0b97d61a",
   "metadata": {},
   "outputs": [],
   "source": [
    "# Now let's get slightly more complicated\n",
    "# We don't have to be limited to only two values. We can study a third dimension of the data on a single figure!\n",
    "\n",
    "# First, let's ask for another halo property, Mgas\n",
    "# Note: the order you ask for properties doesn't matter!\n",
    "halo_mass, stellar_mass, gas_mass, halo_number = step.calculate_all('Mvir','Mstar','Mgas','halo_number()')\n",
    "\n"
   ]
  },
  {
   "cell_type": "code",
   "execution_count": null,
   "id": "1ec3eb6f",
   "metadata": {},
   "outputs": [],
   "source": [
    "# Now we can make a scatter plot again, similar to what we did above\n",
    "# This time, however, we are going to set the c and cmap keywords\n",
    "# c will let us set set the colors of our points based on different values of the data\n",
    "# Notice that here I'm selecting our positive stellar masses in a slightly different way\n",
    "# You don't always need the np.where() function. Instead you can use a notation like this\n",
    "plt.scatter(halo_mass[(stellar_mass>0)], stellar_mass[(stellar_mass>0)], c=np.log10(gas_mass[(stellar_mass>0)]),cmap='viridis')\n",
    "\n",
    "# Note that I've made the color of the points equal to the log(Mgas) using np.log10().\n",
    "# I have also set the color map, which determines the color scheme used, to 'viridis'\n",
    "# You can find a list of colormaps to use with matplotlib here: https://matplotlib.org/stable/tutorials/colors/colormaps.html\n",
    "\n",
    "plt.yscale('log')\n",
    "plt.xscale('log')\n",
    "plt.xlabel('Halo Mass [Msol]')\n",
    "plt.ylabel('Stellar Mass [Msol]')\n",
    "\n",
    "# Here is another new function, which creates a colorbar for you\n",
    "# Just like with plotting lines, label lets you make a note of what the colors mean\n",
    "plt.colorbar(label='Log Gas Mass [Msol]')\n",
    "\n"
   ]
  },
  {
   "cell_type": "code",
   "execution_count": null,
   "id": "832f5bdc",
   "metadata": {},
   "outputs": [],
   "source": [
    "# Now let's get slightly more complex again\n",
    "# Now we can color the points by the ratio of gas to stars\n",
    "# While it makes sense that more massive galaxies have more gas (see above)\n",
    "# this may be hiding some other interesting trends.\n",
    "# Looking at the ratio of two quantities like gas to stars can help us identify other interesting things\n",
    "# A galaxy with much more gas to stars may be less efficient at turning that gas into stars\n",
    "# On the other hand, a galaxy with much more stars than gas, may have already used up most of its \"fuel\" for more stars\n",
    "\n",
    "plt.scatter(halo_mass[(stellar_mass>0)], stellar_mass[(stellar_mass>0)], \n",
    "            c=np.log10(gas_mass[(stellar_mass>0)]/stellar_mass[(stellar_mass>0)]),cmap='viridis')\n",
    "plt.yscale('log')\n",
    "plt.xscale('log')\n",
    "plt.xlabel('Halo Mass [Msol]')\n",
    "plt.ylabel('Stellar Mass [Msol]')\n",
    "plt.colorbar(label='Log Mgas/Mstar')\n",
    "\n"
   ]
  },
  {
   "cell_type": "code",
   "execution_count": null,
   "id": "0fa6a600",
   "metadata": {},
   "outputs": [],
   "source": [
    "# Ok, it looks like we MAY be seeing something interesting in the plot above, but it is kind of hard to tell\n",
    "# Notice the values that plt.scatter() chose by default in the color bar.\n",
    "# Remember, this is log-space so that colorbar ranges from 0.001 (10^-3) to 1000 (10^3). That's a huge range!\n",
    "# Often, the default will simply create a renate based on the maximum and minimum values of the data\n",
    "# But in many cases such a wide range will not be as useful.\n",
    "# Using the vmin and vmax parameters in plt.scatter() we can set the range for our colorbar by hand!\n",
    "# The typical reason why your colorbar may not initially be helpful is because the range is too big\n",
    "# Here I set vmin to -1 (0.1) and vmax to 2 (100), which is a much smaller range in values.\n",
    "# The goal is to bring out more of the trends that may be difficult to see in the above plot.\n",
    "\n",
    "plt.scatter(halo_mass[(stellar_mass>0)], stellar_mass[(stellar_mass>0)], \n",
    "            c=np.log10(gas_mass[(stellar_mass>0)]/stellar_mass[(stellar_mass>0)]),cmap='viridis', vmin=-1, vmax=2)\n",
    "plt.yscale('log')\n",
    "plt.xscale('log')\n",
    "plt.xlabel('Halo Mass [Msol]')\n",
    "plt.ylabel('Stellar Mass [Msol]')\n",
    "plt.colorbar(label='Log Mgas/Mstar')\n",
    "\n"
   ]
  },
  {
   "cell_type": "markdown",
   "id": "1f0a64da-b174-4c32-a7a7-68d462413e35",
   "metadata": {},
   "source": [
    "<h3>Making Some Plots of your Own: Star Formation Rate vs Stellar Mass </h3>"
   ]
  },
  {
   "cell_type": "code",
   "execution_count": null,
   "id": "f703b130-77db-46a9-ae95-a9a9c01b0407",
   "metadata": {},
   "outputs": [],
   "source": [
    "# Plot the star formation rate of galaxies in the simulation versus their stellar mass\n",
    "# Last time we used this command to load in halo mass, stellar mass, gas mass, and halo number\n",
    "# halo_mass, stellar_mass, gas_mass, halo_number = step.calculate_all('Mvir','Mstar','Mgas','halo_number()')\n",
    "\n",
    "# This time we are going to calculate the star formation rate of every galaxy.\n",
    "# For this, we will be using the property SFR_encl_25Myr\n",
    "# But, this property is a PROFILE\n",
    "# This property ges the rate at which stars are forming within different radii of the galaxy\n",
    "# Just like the other PROFILE properties, it uses bins of 0.1 kpc. So, the first value is the SFR within\n",
    "# the inner 0.1 kpc of the galaxy. The next is the total SFR within 0.2 kpc, then 0.3, 0.4, and so on.\n",
    "\n",
    "# Let's see what this looks like. Below we plot this profile just like we did with density above\n",
    "# Think about what this property means. With density we saw things DECREASE with radius. \n",
    "# How is this different and why?\n",
    "\n",
    "rbins = np.arange(len(halo48['SFR_encl_25Myr']))*0.1+0.05\n",
    "plt.plot(rbins,halo48['SFR_encl_25Myr'])\n",
    "plt.yscale('log')\n",
    "plt.xscale('log')\n",
    "plt.ylabel(r'Enclosed Star Formation Rate [Msol/yr]')\n",
    "plt.xlabel(r'R [kpc]')\n"
   ]
  },
  {
   "cell_type": "code",
   "execution_count": null,
   "id": "af775fc7-c085-4dbd-8e59-de8cac383703",
   "metadata": {},
   "outputs": [],
   "source": [
    "# We know that with the at() function we can extract the star formation rate within any radius that we want\n",
    "# For example, we can do the following to get the SFR within the inner 10 kpc of halo48\n",
    "\n",
    "sfr_10 = halo48.calculate('at(10,SFR_encl_25Myr)')\n",
    "print(\"SFR of halo 48, R < 10 kpc:\", sfr_10)\n",
    "\n",
    "# But, every galaxy has a different size. What is the correct radius?\n",
    "# The simplest thing to do is to just use the value including all the stars within the\n",
    "# entire galaxy and its surrounding halo\n",
    "# To do this, we instead of using 10 in the at() function, we can give it another property of the galaxy\n",
    "# The radius(200) property (don't worry about the number 200 for now) gives the total size of each halo.\n",
    "# By using this radius, we will get the total SFR!\n",
    "\n",
    "sfr_all = halo48.calculate('at(radius(200),SFR_encl_25Myr)')\n",
    "print(\"total SFR of halo 48:\", sfr_all)"
   ]
  },
  {
   "cell_type": "code",
   "execution_count": null,
   "id": "fd9e674c-1360-4883-a5cf-5a8bbdc273cd",
   "metadata": {},
   "outputs": [],
   "source": [
    "# Now try on your own below to calculate 'at(radius(200),SFR_encl_25Myr)' for all galaxies,\n",
    "# Along with their stellar mass ('Mstar') and any other property you think might be interesting\n",
    "# e.g. gas mass ('Mgas'), cold gas mass ('MColdGas'), neutral hydrogren gas mass ('MHIGas')\n",
    "# In addition, it's usually a good idea to extract the halo ID numbers too ('halo_number()')\n",
    "# Hint: Look back above to when we used calculate_all\n",
    "# halo_mass, stellar_mass, gas_mass, halo_number = step.calculate_all('Mvir','Mstar','Mgas','halo_number()')\n",
    "# But this time, you'll be asking for different properties!\n",
    "\n",
    "\n",
    "\n",
    "\n"
   ]
  },
  {
   "cell_type": "code",
   "execution_count": null,
   "id": "ef51a911-5d07-4c63-bb07-64ff1114a5f8",
   "metadata": {},
   "outputs": [],
   "source": [
    "# Now make a plot, similar to what we did for Mstar and Mvir, but plotting SFR on the y-axis and Mstar on the x-axis\n",
    "# As a reminder, this is what we did last time:\n",
    "# ok_to_plot = np.where(stellar_mass > 0)\n",
    "# plt.scatter(halo_mass[ok_to_plot], stellar_mass[ok_to_plot], marker='o', c='k')\n",
    "# plt.yscale('log')\n",
    "# plt.xscale('log')\n",
    "# plt.xlabel('Halo Mass [Msol]')\n",
    "# plt.ylabel('Stellar Mass [Msol]')\n",
    "\n",
    "\n"
   ]
  },
  {
   "cell_type": "code",
   "execution_count": null,
   "id": "d3d142bd-b25e-41bd-871e-2a7483724d7a",
   "metadata": {},
   "outputs": [],
   "source": [
    "# Now, try coloring your points by something else (Mgas, MColdGas, or any other property you decided to calculate)\n",
    "# As a reminder, this is what we did last time (this time you will have different propertis and differetn vmin/vmax):\n",
    "\n",
    "# plt.scatter(halo_mass[(stellar_mass>0)], stellar_mass[(stellar_mass>0)], \n",
    "#            c=np.log10(gas_mass[(stellar_mass>0)]/stellar_mass[(stellar_mass>0)]),cmap='viridis', vmin=-1, vmax=2)\n",
    "# plt.yscale('log')\n",
    "# plt.xscale('log')\n",
    "# plt.xlabel('Halo Mass [Msol]')\n",
    "# plt.ylabel('Stellar Mass [Msol]')\n",
    "# plt.colorbar(label='Log Mgas/Mstar')\n",
    "\n",
    "# You can also choose a new colormap (cmap) if you'd like! This is a nice reference for the available colormaps:\n",
    "# https://matplotlib.org/stable/tutorials/colors/colormaps.html\n",
    "\n",
    "\n",
    "\n"
   ]
  },
  {
   "cell_type": "markdown",
   "id": "a0cfa4a1-90fa-476c-8ae0-1eefd8ae13d1",
   "metadata": {},
   "source": [
    "<h3> Saving Your Work </h3>"
   ]
  },
  {
   "cell_type": "code",
   "execution_count": null,
   "id": "5c2d3c13-89f3-40d0-98d7-cfec73405a77",
   "metadata": {},
   "outputs": [],
   "source": [
    "# For plots, you can save using the savefig() function in matplotlib\n",
    "plt.plot([0,1],[0,1],'b-') #make a blue diagonal line (simple example)\n",
    "plt.savefig(\"my_simple_figure.png\") #save it and give it a name! .png or .pdf are typically the best choices for file type. It will generate the format automatically"
   ]
  },
  {
   "cell_type": "code",
   "execution_count": null,
   "id": "045bd27c-9ffd-4215-8b8b-5f1f72903749",
   "metadata": {},
   "outputs": [],
   "source": [
    "# You may also want to save data. For this, pickle is a useful tool\n",
    "import pickle\n",
    "\n",
    "# say we want to save our halo_mass and stellar_mass data that we extracted.\n",
    "# This is kind of a silly example, as this is already easily accessible in the database. \n",
    "# But, in the future you may perform more comlex calculations with data you want to save\n",
    "\n",
    "#create a DICTIONARY to store each of your data entries\n",
    "data_to_file = {'halo_mass': halo_mass, \n",
    "                'star_mass': stellar_mass, \n",
    "                'halo_number':halo_number, \n",
    "                'notes': \"Halo and stellar masses for all the halos in Romulus25 at z = 0 (step 8192)\"}\n",
    "\n",
    "#Note that I like to put in notes to remind yourself later where the data is from\n",
    "\n",
    "#Now send it over to a pickle file\n",
    "#open up a file with a name ending in .pkl or .pickle or something like that\n",
    "f = open('my_test_pickle_file.pkl','wb') # note that wb == \"write binary\"\n",
    "pickle.dump(data_to_file,f)\n",
    "f.close() #ALWAYS close your file!\n",
    "\n",
    "#Now, in the future if you want to access that data again pretty easily\n",
    "f = open('my_test_pickle_file.pkl','rb') # now we rb == \"read binary\"! IMPORTANT: putting \"wb\" by accident here will open it up for writing and erase your data!\n",
    "my_saved_data = pickle.load(f)\n",
    "f.close()\n",
    "\n",
    "#print out some properties to see what we have! They should be identitcal\n",
    "print(data_fo_file['halo_mass'], my_saved_data['halo_mass'])\n"
   ]
  },
  {
   "cell_type": "markdown",
   "id": "8693ffe8",
   "metadata": {},
   "source": [
    "<h3> Troubleshooting Tip:  Dealing with Duplicate Properties </h3>\n",
    "<a id=’troubleshoot’></a>"
   ]
  },
  {
   "cell_type": "code",
   "execution_count": null,
   "id": "369a2ea6",
   "metadata": {},
   "outputs": [],
   "source": [
    "# The Romulus database has been constantly updated and worked on by many people. This means some things may get a little messy\n",
    "# Here I want to go through a few common problems you may run into\n",
    "\n",
    "# The first is with duplicate properties. \n",
    "\n",
    "halo1760 = db.get_halo('cosmo25/%8192/1760')\n",
    "halo1760['SFR_histogram']\n"
   ]
  },
  {
   "cell_type": "code",
   "execution_count": null,
   "id": "8fe59450",
   "metadata": {},
   "outputs": [],
   "source": [
    "# This halo has multiple instances of the same property. This will cause some problems when trying to do things like make a plot\n",
    "# The following will throw an error because plt.plot() sees you trying to give it two different arrays for y values\n",
    "time_sfr = np.arange(1380)*0.1+0.05\n",
    "plt.plot(time_sfr, halo1760['SFR_histogram'])\n"
   ]
  },
  {
   "cell_type": "code",
   "execution_count": null,
   "id": "77fe77e9",
   "metadata": {},
   "outputs": [],
   "source": [
    "# The solution here is relatively simple. Notice when you saw the SFR_histogram property for halo 1760 it was a list of two properties.\n",
    "# So, all you need to do is select one of these to plot and everything will work out fine\n",
    "\n",
    "real_sfr_histogram = halo1760['SFR_histogram'][0] #This selecte the first of the two properties under this name\n",
    "time_sfr = np.arange(len(real_sfr_histogram))*0.1+0.05\n",
    "plt.plot(time_sfr, real_sfr_histogram)\n",
    "plt.ylabel('Star Formation Rate [Msol/yr]')\n",
    "plt.xlabel('Time [Gyr]')\n"
   ]
  },
  {
   "cell_type": "markdown",
   "id": "5acc4a52-16a2-4af8-a356-9737aa73d98c",
   "metadata": {},
   "source": [
    "<h3> Troubleshooting Tip:  Property Doesn't Exist (Probably a Typo!) </h3>\n"
   ]
  },
  {
   "cell_type": "code",
   "execution_count": null,
   "id": "f362e4aa-8381-4afd-b33f-0c99be269496",
   "metadata": {},
   "outputs": [],
   "source": [
    "# This is what it looks like when you ask for a property that doesn't exist in the database\n",
    "# This means that it just hasn't been calculated yet. Either a new calculation needs to be run or double check you got the name right\n",
    "\n",
    "halo48['my_fake_property']"
   ]
  },
  {
   "cell_type": "code",
   "execution_count": null,
   "id": "8aa6b2a4-d5c1-4e44-978e-118843c519de",
   "metadata": {},
   "outputs": [],
   "source": [
    "# Some properties are \"live calculated\", like at() and radius(). These are calculations that use existing database properties.\n",
    "# Here is what it looks like when this fails.\n",
    "# Like above, this could mean you mistype the property. It may also mean that TANGOS was supposed to important a file and didn't\n",
    "# Double check the tangos_env.sh file and your TANGOS_PROPERTY_MODULES variable.\n",
    "# If that looks right, try opening ipython and importing each module individually. TANGOS won't tell you if it fails to import some of these extra modules.\n",
    "\n",
    "halo48.calculate('my_fake_property()')"
   ]
  },
  {
   "cell_type": "code",
   "execution_count": null,
   "id": "7c85cea8-e5f9-43f6-801d-abde7fb8e34a",
   "metadata": {},
   "outputs": [],
   "source": []
  }
 ],
 "metadata": {
  "kernelspec": {
   "display_name": "Python 3",
   "language": "python",
   "name": "python3"
  },
  "language_info": {
   "codemirror_mode": {
    "name": "ipython",
    "version": 3
   },
   "file_extension": ".py",
   "mimetype": "text/x-python",
   "name": "python",
   "nbconvert_exporter": "python",
   "pygments_lexer": "ipython3",
   "version": "3.8.8"
  }
 },
 "nbformat": 4,
 "nbformat_minor": 5
}
