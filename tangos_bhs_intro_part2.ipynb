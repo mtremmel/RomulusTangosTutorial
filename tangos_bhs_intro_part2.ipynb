{
 "cells": [
  {
   "cell_type": "markdown",
   "id": "baefb514-71d1-4816-ae48-6a5fb82bade9",
   "metadata": {},
   "source": [
    "<h3> Examining the Evolution of Black Holes in Romulus </h3>"
   ]
  },
  {
   "cell_type": "code",
   "execution_count": null,
   "id": "1066d92c-10da-41eb-9b83-8ccb3a7db95d",
   "metadata": {},
   "outputs": [],
   "source": [
    "#start by importing some needed modules\n",
    "#You may see some warnings... unless it spits out an error, you can ignore them!\n",
    "import tangos as db\n",
    "import numpy as np\n",
    "import pynbody\n",
    "import matplotlib.pyplot as plt\n",
    "plt.ion()\n",
    "sim = db.get_simulation('cosmo25')\n",
    "\n",
    "#Set up some properties to make the plots look nice\n",
    "plt.rcParams['figure.figsize'] = (12, 9) #set figure size\n",
    "plt.rcParams['font.size'] = 20 #set font size so things are readible and not too small or bit\n",
    "plt.rcParams['font.family'] = 'sans-serif' # just a font preference here\n",
    "plt.rcParams['xtick.major.size'] = 10 #size and widths of major/minor tick marks on plots\n",
    "plt.rcParams['xtick.major.width'] = 2\n",
    "plt.rcParams['ytick.major.size'] = 10\n",
    "plt.rcParams['ytick.major.width'] = 2\n",
    "plt.rcParams['xtick.minor.size'] = 5\n",
    "plt.rcParams['xtick.minor.width'] = 1\n",
    "plt.rcParams['ytick.minor.size'] = 5\n",
    "plt.rcParams['ytick.minor.width'] = 1"
   ]
  },
  {
   "cell_type": "markdown",
   "id": "904601ba-68cb-467d-9982-cafafef93ba5",
   "metadata": {},
   "source": [
    "<h3> Tracking Individual BHs Through Time </h3> \n",
    "\n",
    "We can track black holes between simulation snapshots much like we can with galaxies."
   ]
  },
  {
   "cell_type": "code",
   "execution_count": null,
   "id": "133471b3-945c-4fcc-82a0-8dbfe77f6712",
   "metadata": {},
   "outputs": [],
   "source": [
    "#First we select our black hole. Black hole ID numbers are just random numbers without intrinsic meaning so often we will select BHs for a reason.\n",
    "#One common way is to select them based on them being at the center of a galaxy we care about.\n",
    "\n",
    "#Select halo 48 from the database.\n",
    "#In Romulus we only have BH data up to step number 7779 so that is what we will use here\n",
    "\n",
    "halo48 = db.get_halo('cosmo25/%7779/48')\n",
    "\n",
    "#Now find the BH you want.\n",
    "#In this case we will extract the most massive BH within 1 kpc of the center\n",
    "#(hence we will call it bh_h48cen to tell us what halo and how we selected it)\n",
    "\n",
    "#Reading the link() function step by step:\n",
    "#We are extracting BH_central objects [i.e. ignoring any BH in a satellite galaxy]\n",
    "#Based on their mass (BH_mass) being the maximum (\"max\") value\n",
    "#And limiting our search such that the BHs are within 1 kpc of the center (BH_central_distance < 1)\n",
    "bh_h48cen = halo48.calculate('link(BH_central,BH_mass, \"max\", BH_central_distance<1)')\n",
    "\n",
    "\n",
    "#Just lack galaxies, black holes can be tracked backwards (or forwards) in time\n",
    "print(\"Original BH: \",bh_h48cen)\n",
    "\n",
    "#find the halo in the previous timestep\n",
    "print(\"Previous Step: \", bh_h48cen.previous)\n",
    "print(\"Next Previous Step: \", bh_h48cen.previous.previous) #asking for \"previous\" twice results in moving two steps back\n",
    "\n",
    "#Notice how the the ID remains the same\n",
    "\n",
    "print(\"Original BH ID: \",bh_h48cen.halo_number)\n",
    "print(\"Previous Step BH ID: \", bh_h48cen.previous.halo_number)\n",
    "print(\"Two Steps Previous BH ID: \", bh_h48cen.previous.previous.halo_number)\n",
    "\n",
    "#This is because BHs are traced back based on their ID.\n",
    "#So, while the value of a black hole's ID (or \"halo_number\") doesn't mean anything on its own,\n",
    "#unlike halo number it CAN be used to trace back a single black hole because each one\n",
    "#always has the same ID number. This is an important difference between BHs and galaxies in the database.\n"
   ]
  },
  {
   "cell_type": "code",
   "execution_count": null,
   "id": "ded9052f-c354-4ca5-8a95-d290ccd9d410",
   "metadata": {},
   "outputs": [],
   "source": [
    "#Now that we have our black hole, we can extract the properties of its progenitors the same way we do for galaxies\n",
    "#Here we are extracting the mass (\"BH_mass\") over time (\"t()\")\n",
    "\n",
    "BH_mass_history, time = bh_h48cen.calculate_for_progenitors('BH_mass', 't()')\n",
    "\n",
    "# this will give us two arrays: the mass of this black hole through time [BH_mass_history]\n",
    "# and the time at which each value of mass_hist was found in the simulation outputs [time]\n",
    "# Note the time values go backwards and are presented as time since the big bang\n",
    "# So, the first value is 13.8 (present day) with decreasing time as you go backward toward the start of the Universe\n",
    "\n",
    "print('BH mass through time:', BH_mass_history)\n",
    "print('Time:', time)"
   ]
  },
  {
   "cell_type": "code",
   "execution_count": null,
   "id": "45f44ff8-28ca-462a-94d1-04e3f1caea74",
   "metadata": {},
   "outputs": [],
   "source": [
    "# And now we can plot it up!\n",
    "\n",
    "plt.plot(time, BH_mass_history, lw=3)\n",
    "plt.ylabel('BH Mass [M$_{\\odot}$]')\n",
    "plt.xlabel('Time [Gyr]')\n",
    "plt.yscale('log')"
   ]
  },
  {
   "cell_type": "markdown",
   "id": "42d0fec4-bf5b-4752-81fc-f3a91b9077d8",
   "metadata": {},
   "source": [
    "One thing to remember is that we are looking at the evolution of a single black hole object, which has a constant identification number throughout the simulation. However, it is important to remember that in Romulus each galaxy can have multiple black holes. The black hole at the center may not always be the same one. It is therefore often useful to track the evolution of black holes based on the host galaxy, rather than the individual black hole. In this case, you can think about properties like \"black hole mass\" as being properties of the galaxy (i.e. \"at any given time, what is the mass of this galaxies largest, central black hole?\")"
   ]
  },
  {
   "cell_type": "code",
   "execution_count": null,
   "id": "e90798f9-7a82-4f20-b815-5071d67dbf5f",
   "metadata": {},
   "outputs": [],
   "source": [
    "# We already have our galaxy selected above (halo48)\n",
    "# Just like for typical galaxy properties, we can find linked black holes in previous snapshots and extract their properties\n",
    "# Here we are finding the mass of the most massive BH within 1 kpc of the galaxy center, as well as the time for each snapshot\n",
    "\n",
    "BH_mass_history_gal, time_gal = halo48.calculate_for_progenitors('link(BH_central,BH_mass, \"max\", BH_central_distance<1).BH_mass', 't()')\n",
    "\n",
    "#Now we will plot both lines: one will represent the growth history of the individual black hole, like the one above  (\"Black Hole Tracking\")\n",
    "#The other line will represent what happens if we trace the galaxy through time and plot the mass of its central BH over time (\"Galaxy Tracking\")\n",
    "\n",
    "plt.plot(time_gal, BH_mass_history_gal, lw=3, label='Galaxy Tracking') #use \"label\" so that we can create a legend below\n",
    "plt.plot(time, BH_mass_history, lw=3, ls='--', label='Black Hole Tracking') #use ls='--' to change the linestype to \"dashed\"\n",
    "#Note that there are other line styles you can use (':' == dotted, '-.' = dash-dot)\n",
    "\n",
    "plt.ylabel('BH Mass [M$_{\\odot}$]')\n",
    "plt.xlabel('Time [Gyr]')\n",
    "plt.yscale('log')\n",
    "plt.legend(loc='upper left') #create your legend and tell it to be located in the upper left of the plot\n",
    "#loc can also be 'upper left', 'upper right', 'lower left', 'lower center', etc"
   ]
  },
  {
   "cell_type": "code",
   "execution_count": null,
   "id": "cb5322cf-54dc-42fc-8b94-25c18ae24695",
   "metadata": {},
   "outputs": [],
   "source": [
    "# Note that in the plot above, there are instances where different black holes of different mass are in the center of the galaxy, especially at early times.\n",
    "# In other words, what is the central BH at the end of the simulation was not always there!\n",
    "# We can also see this if we examine the ID numbers for the central black holes in halo 48 tracked through time\n",
    "# We once again calculate BH properties by tracing the galaxy through time, this time extracting the ID number (\"halo_number()\") for each BH\n",
    "\n",
    "BH_id_history, time_gal = halo48.calculate_for_progenitors('link(BH_central,BH_mass, \"max\", BH_central_distance<1).halo_number()', 't()')\n",
    "\n",
    "print(\"BH IDs for halo 48 through time: \", BH_id_history)\n",
    "\n",
    "# Note that while BH #1981967682 is at the center for the majority of time, there are plenty of instances where different black holes end up at the center.\n",
    "# At the very start of the simulation in the early Universe 1981967682 is not at the center at all! \n",
    "# It is only after some time that this particular BH finds its way to the center\n",
    "# Why does this happen? Well, galaxies often merge and, with them, they bring along their own central BHs\n",
    "# Those BHs may then make their way to the center. Sometimes they merge with the central BH. Other times they may simply switch places for some amount of time."
   ]
  },
  {
   "cell_type": "markdown",
   "id": "0735644d-51b2-4198-af70-b03d29afd8f1",
   "metadata": {},
   "source": [
    "<h3> Black Hole Mergers </h3>\n",
    "\n",
    "When two black holes get close together in the simulation, they merge into a single black hole! One complication with this process is that the new black hole inherits the ID number of one of the two black holes. The other black hole is essentially removed from the simulation. This is in part why tracing individual black holes is not always the right answer. When a merger occurs, it is never certain which BH is the \"correct\" one to follow (remember, the ID numbers are essentialy meaningless). Do you follow the one that was in the center previously? Or the more massive black hole? It can really depend on what you are trying to do. Here we will explore a little bit about how to examine data related to black hole mergers."
   ]
  },
  {
   "cell_type": "code",
   "execution_count": null,
   "id": "15729f8f-68cc-4a0d-b4e5-b7bd72ec0c38",
   "metadata": {},
   "outputs": [],
   "source": [
    "# There is a list of BH mergers saved in what is called a \"pickle file\"\n",
    "# To read it you need to import the package called 'pickle' and then open up the file using the open() function\n",
    "# IMPORTANT: when you open the file don't forget \"rb\", which tells python that you are reading (r) a binary (b) file!\n",
    "\n",
    "import pickle\n",
    "f = open('/netb/priya/mjt56/Romulus/cosmo25/BHmergers_simple.pkl','rb') #open the file\n",
    "bhmergers = pickle.load(f) #load it in with pickle\n",
    "f.close() #close the file\n",
    "\n",
    "#Now your new object, called bhmergers here, is a dictionary of properties for each merger event\n",
    "\n",
    "print(bhmergers.keys()) #print out all the available property names"
   ]
  },
  {
   "cell_type": "code",
   "execution_count": null,
   "id": "0274e009-b292-47e2-abca-fe1ec6431be2",
   "metadata": {},
   "outputs": [],
   "source": [
    "# Each of the dictionary items is an array of merger properties. The first values all correspond to the first merger, second to the second, and so on.\n",
    "# Think of this like a table and the item names ('time', 'ID1', 'step', etc) are column names and each row (1st row = first values) is a single merger event\n",
    "\n",
    "# We can use this file to examine general properties of mergers. For example, we might want to look at the distribution in time of merger events in the simulation\n",
    "# The hist() function in matplotlib is super useful!\n",
    "# Histograms result from binning data by a certain property (in this case, we will use time) and simply counting how many instances are in each bin\n",
    "# \"Bins\" are just ranges of values. We often think of bins based on their \"edges\"\n",
    "# Bin edges of time = [0,1,2,3] will result in three bins of time: 0-1, 1-2, and 2-3.\n",
    "\n",
    "# The important parameters in hist() are range, which tells it the range to create bins over, and bins which gives the number of bins you want to create.\n",
    "# By default, histogram will generate bins of equal length over your range (in the below example, this will create 28 bins of size 0.5 Gyr)\n",
    "# The histtype='step' parameter is typically good to use because it will create a line plot rather than a bar graph which is often harder to read\n",
    "\n",
    "plt.hist(bhmergers['time'], range=[0,14], bins=28, lw=3, histtype='step') #note that parameters like lw are also used in plot()!\n",
    "plt.xlabel('Time [Gyr]')\n",
    "plt.ylabel('Number of Mergers')"
   ]
  },
  {
   "cell_type": "code",
   "execution_count": null,
   "id": "0cf0b843-316a-498f-af13-86ab37371a5b",
   "metadata": {},
   "outputs": [],
   "source": [
    "# Often, the raw number is not what we are interested in. Instead, histograms can give more generalized information\n",
    "# When you normalize the raw numbers by the total number of mergers, you get a fraction.\n",
    "# This is useful because the total number of mergers is really a result of the size of the simulation.\n",
    "# Presenting results as a fraction makes it clear that we are mostly interested in the RELATIVE difference in each bin\n",
    "# (e.g. \"25% of the mergers take place before this time\")\n",
    "\n",
    "# Further, we can normalize by the size of our bins as well.\n",
    "# So, doing both: N_bin / (binsize * N_total) = \"Probability Density\"\n",
    "# plt.hist() can do this by setting density=True\n",
    "\n",
    "plt.hist(bhmergers['time'], range=[0,14], bins=28, lw=3, histtype='step', density=True) \n",
    "plt.xlabel('Time [Gyr]')\n",
    "plt.ylabel('Probability Density')\n",
    "\n",
    "# Note that the SHAPE of the plot remains unchanged but the values on the Y axis (as well as the definition of the Y axis) has changed."
   ]
  },
  {
   "cell_type": "code",
   "execution_count": null,
   "id": "63758b0e-fb30-4cb1-b1b9-65a97316deaf",
   "metadata": {},
   "outputs": [],
   "source": [
    "# Beyond looking at the overall population of merger events, we may care about an individual black hole's merger history\n",
    "# Notice in the mass evolution plot above there are several instances of sharp jumps in mass\n",
    "# This is not due to accretion but rather merger events!  A new black hole is coming in and instantaneously increasing the mass of our target black hole\n",
    "\n",
    "# To find the mergers associated with a particular black hole, we can slide our array of values based on the ID number\n",
    "# In the mergers file \"ID1\" corresponds to the \"surviving\" black hole ID while \"ID2\" is the black hole that is \"eaten\" or removed from the simulation after the merger\n",
    "# In other words, black holes ID1 and ID2 merge and the resulting black hole has ID = ID1.\n",
    "\n",
    "# Here we can list the times of all mergers involving BH ID 1981967682 (our chosen BH above)\n",
    "print(bhmergers['time'][(bhmergers['ID1']==1981967682)])\n",
    "\n",
    "# Alternatively, you can find the indices that correspond to mergers we care about \n",
    "our_mergers = np.where(bhmergers['ID1']==1981967682)[0]\n",
    "\n",
    "# Then this can be used on any other merger property\n",
    "print(bhmergers['time'][our_mergers])\n",
    "print(bhmergers['redshift'][our_mergers])"
   ]
  },
  {
   "cell_type": "markdown",
   "id": "e6bbc847-6903-49af-a649-9a35cd4db14c",
   "metadata": {},
   "source": [
    "<h3> Black Hole Histogram Properties </h3>\n",
    "\n",
    "Like galaxies, black holes also have properties with higher time resolution than just snapshots. Recall that galaxies have a property `SFR_histogram` that does this. For black holes, we can examine their growth rate over time (how much mass they are accumulating by \"eating\" nearby gas). This property is stored in `BH_mdot_histogram` and can be accessed in much the same way as `SFR_histogram`."
   ]
  },
  {
   "cell_type": "code",
   "execution_count": null,
   "id": "ff9aa364-3162-4b1c-bdea-398c72711e80",
   "metadata": {},
   "outputs": [],
   "source": [
    "# We will extract this in a similar way as we did for galaxy SFR_histograms\n",
    "\n",
    "bhmdot = bh_h48cen['BH_mdot_histogram']\n",
    "\n",
    "# This property is a histogram, meaning that it bins the stars formed in the simulation into bins of formation times\n",
    "# The property that you get out is the accretion rate at various times\n",
    "# To check the time between subsequent mdot values, we use the same simulation property as for SFR\n",
    "dt = sim[\"histogram_delta_t_Gyr\"]\n",
    "\n",
    "# Now create your time array\n",
    "time_mdot = np.arange(len(bhmdot)) * dt + dt/2."
   ]
  },
  {
   "cell_type": "code",
   "execution_count": null,
   "id": "f0054812-b81a-4ddc-a9c9-4de81208d8d5",
   "metadata": {},
   "outputs": [],
   "source": [
    "# Now we plot it!\n",
    "# Note that \"dot\" is used in math to denote a time derivative whic is why we have used it in the variable name\n",
    "\n",
    "plt.plot(time_mdot, bhmdot, lw=3)\n",
    "plt.ylabel('Accretion Rate [M$_{\\odot}/yr$]')\n",
    "plt.xlabel('Time')\n",
    "plt.yscale('log')\n",
    "\n",
    "# Think about what might be causing that dip between 3 and 4 Gyrs... Look back at the previous plots for clues"
   ]
  },
  {
   "cell_type": "markdown",
   "id": "27da2dda-a065-429f-9579-2f85e046d882",
   "metadata": {},
   "source": [
    "While the above plots the growth history of a single black hole, we have already discussed how each black hole at the end of the simulation (more specifically, step 7779 in our case which is essentially the end) has had a history of merger events. Some of those previous black holes may have grown themselves and contributed to the final mass of our central BH. To account for this, we can actually calculate the accretion rate for a black hole summed over all the black holes in its merger history. This represents a more complete picture of the total black hole growth history experienced by the black hole through time."
   ]
  },
  {
   "cell_type": "code",
   "execution_count": null,
   "id": "2fe2b440-d8a5-4232-8469-594bab410691",
   "metadata": {},
   "outputs": [],
   "source": [
    "# To do this, we will need to use the reassemble() function.\n",
    "# this function takes as an argument the histogram property we care about, in this case BH_mdot_histogram.\n",
    "# By defulat, it will give us the exact same answer as just asking for the property like we do above\n",
    "bhmdot_single = bh_h48cen.calculate(\"reassemble(BH_mdot_histogram)\")\n",
    "\n",
    "# But the reason we need to use it is for its other functionality.\n",
    "# If we put in the argument \"sum\" we can perform this summation of the accretion histories\n",
    "\n",
    "bhmdot_all = bh_h48cen.calculate(\"reassemble(BH_mdot_histogram,'sum')\")\n",
    "\n",
    "plt.plot(time_mdot, bhmdot_single, lw=3, label='Single BH')\n",
    "plt.plot(time_mdot, bhmdot_all, lw=3, label='All Progenitor BHs')\n",
    "plt.legend(loc='lower right')\n",
    "plt.ylabel('Accretion Rate [M$_{\\odot}/yr$]')\n",
    "plt.xlabel('Time')\n",
    "plt.yscale('log')\n",
    "\n",
    "\n"
   ]
  },
  {
   "cell_type": "markdown",
   "id": "1bc15c2a-f182-4a7e-a280-a1ca7e7f08f9",
   "metadata": {},
   "source": [
    "<h3> Coding Challenge </h3>\n",
    "\n",
    "For a given black hole, we can pretty easily find all the mergers that take place with that specific black hole (see above). However, consider this: if each black hole experiences its own merger events, then every black hole that merges with our target object may have its own history of mergers. When determining the TOTAL number of mergers that each black hole experiences, we need to count not only the mergers that involved that black hole, but all of the mergers those black holes went through and so on.\n",
    "\n",
    "Goal: For a given black hole (e.g. BH 1981967682) find the total number of mergers in its merger tree. For each BH that mergers with this particular one, find all of its mergers and so on.\n",
    "\n",
    "Hint: you will need to use a for loop and find a way to continuously add new BHs to a list as you make your way through the \"levels\" of the merger tree"
   ]
  },
  {
   "cell_type": "code",
   "execution_count": null,
   "id": "8c3faa95-c3d3-48f7-abea-45c8eef6d5a4",
   "metadata": {},
   "outputs": [],
   "source": []
  }
 ],
 "metadata": {
  "kernelspec": {
   "display_name": "Python 3",
   "language": "python",
   "name": "python3"
  },
  "language_info": {
   "codemirror_mode": {
    "name": "ipython",
    "version": 3
   },
   "file_extension": ".py",
   "mimetype": "text/x-python",
   "name": "python",
   "nbconvert_exporter": "python",
   "pygments_lexer": "ipython3",
   "version": "3.8.8"
  }
 },
 "nbformat": 4,
 "nbformat_minor": 5
}
